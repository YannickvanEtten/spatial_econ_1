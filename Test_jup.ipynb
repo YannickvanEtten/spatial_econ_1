{
 "cells": [
  {
   "cell_type": "markdown",
   "metadata": {},
   "source": [
    "<div style=\"text-align:center\">\n",
    "  <h1>Spatial Economics</h1>\n",
    "  <h1>Assignment 1</h1>\n",
    "  <h3>Nicolas (adjust)</h3>\n",
    "  <h3>703308</h3>\n",
    "  <h3>TI</h3>\n",
    "</div>\n",
    "\n",
    "This file gives explanations to the results additional to the code for replicability."
   ]
  },
  {
   "cell_type": "markdown",
   "metadata": {},
   "source": [
    "<div style=\"text-align:center\">\n",
    "  <h4>Introduction</h4>\n",
    "</div>"
   ]
  },
  {
   "cell_type": "markdown",
   "metadata": {},
   "source": [
    "Small intro regarding project"
   ]
  },
  {
   "cell_type": "code",
   "execution_count": 4,
   "metadata": {},
   "outputs": [],
   "source": [
    "import numpy as np\n",
    "from scipy.optimize import fsolve\n",
    "import matplotlib.pyplot as plt"
   ]
  },
  {
   "cell_type": "markdown",
   "metadata": {},
   "source": [
    "<div style=\"text-align:center\">\n",
    "  <h4>Exercise 1</h4>\n",
    "</div>\n",
    "Solve the model for the parametrization of the model that is assigned to your group. Describe\n",
    "the equilibrium or equilibria graphically as well as in words, paying explicit attention to the\n",
    "stability of the equilibria. Consider the effect of varying transport costs by constructing and\n",
    "describing a graph similar to Figure 4.2 in the book (the so-called wiggle diagram). Describe\n",
    "the comparative statics characteristics of the model with respect to transport costs in your own\n",
    "words. Make sure that you vary the transport costs in such a way that all interesting type of\n",
    "equilibria are found and can be described. "
   ]
  },
  {
   "cell_type": "code",
   "execution_count": null,
   "metadata": {},
   "outputs": [],
   "source": []
  },
  {
   "cell_type": "code",
   "execution_count": null,
   "metadata": {},
   "outputs": [],
   "source": [
    "def solve_system(phi1,gam,rho,bet,delta,alp,eps,L,lam,T):\n",
    "    def equations(p):\n",
    "            Y1, Y2, W1, W2, I1, I2 = p\n",
    "            return(Y1-phi1*(1-gam)*L-lam*gam*L*W1,\n",
    "                Y2-(1-phi1)*(1-gam)*L-(1-lam)*gam*L*W2,\n",
    "                W1-rho*bet**(-rho)*(delta/(alp*(eps-1)))**(1/eps)*(Y1*I1**(eps-1)+T**(1-eps)*Y2*I2**(eps-1))**(1/eps),\n",
    "                W2-rho*bet**(-rho)*(delta/(alp*(eps-1)))**(1/eps)*(T**(1-eps)*Y1*I1**(eps-1)+Y2*I2**(eps-1))**(1/eps),\n",
    "                I1-(gam*L/(alp*eps))**(1/(1-eps))*(bet/rho)*(lam*W1**(1-eps)+(1-lam)*T**(1-eps)*W2**(1-eps))**(1/(1-eps)),\n",
    "                I2-(gam*L/(alp*eps))**(1/(1-eps))*(bet/rho)*(lam*T**(1-eps)*W1**(1-eps)+(1-lam)*W2**(1-eps))**(1/(1-eps)))\n",
    "\n",
    "    Y1, Y2, W1, W2, I1, I2 = fsolve(equations, (1, 1, 1, 1, 1, 1),xtol=1e-10)\n",
    "    Rel = (W1/I1**delta)/(W2/I2**delta)\n",
    "    Welf = Y1/(I1**delta)+Y2/(I2**delta)\n",
    "    Man_H=W1/I1**delta\n",
    "    Man_F=W2/I2**delta\n",
    "    Farm_H=1/I1**delta\n",
    "    Farm_F=1/I2**delta\n",
    "    return Rel, Welf, Man_H, Man_F, Farm_H, Farm_F\n",
    "\n",
    "def run_model(lam_values,phi1,gam,rho,bet,delta,alp,eps,L, indx, T):\n",
    "    print (\"T is equal to\", T)\n",
    "    lamda = []\n",
    "    Relative = []\n",
    "    Welfare = []\n",
    "    W_Man_H = []\n",
    "    W_Man_F = []\n",
    "    W_Farm_H = [] \n",
    "    W_FRamF = []\n",
    "\n",
    "    VRelative = np.zeros(len(lam_values))\n",
    "    VWelfare = np.zeros(len(lam_values))\n",
    "    VW_Man_H = np.zeros(len(lam_values))\n",
    "    VW_Man_F = np.zeros(len(lam_values))\n",
    "    VW_Farm_H = np.zeros(len(lam_values))\n",
    "    VW_FRamF = np.zeros(len(lam_values))\n",
    "\n",
    "    for lamh in range (len(lam_values)):\n",
    "        #given specific lambda value the values are calculated and stored\n",
    "        VRelative[lamh], VWelfare[lamh], VW_Man_H[lamh], VW_Man_F[lamh], VW_Farm_H[lamh], VW_FRamF[lamh] = solve_system(phi1,gam,rho,bet,delta,alp,eps,L,lam_values[lamh],T)\n",
    "        Rel, Welf, Man_H, Man_F, Farm_H, Farm_F = solve_system(phi1,gam,rho,bet,delta,alp,eps,L,lam_values[lamh],T)\n",
    "\n",
    "        lamda.append(lam_values[lamh])\n",
    "        Welfare.append(Welf)\n",
    "        Relative.append(Rel)\n",
    "        W_Man_H.append(Man_H)\n",
    "        W_Man_F.append(Man_F)\n",
    "        W_Farm_H.append(Farm_H)\n",
    "        W_FRamF.append(Farm_F)\n",
    "    return lamda, Welfare, Relative, W_Man_H, W_Man_F, W_Farm_H, W_FRamF, T\n",
    "\n",
    "\n",
    "def CP_model(Th_values,lam_values,alp,bet,gam,delta,eps,rho,phi1,L, lines, color):\n",
    "    indx = -1\n",
    "    fig = plt.figure()\n",
    "    for Th in range (len(Th_values)):\n",
    "        indx += 1\n",
    "        lamda, Welfare, Relative, W_Man_H, W_Man_F, W_Farm_H, W_FRamF, T = run_model(lam_values,phi1,gam,rho,bet,delta,alp,eps,L, indx, Th_values[Th])\n",
    "        \n",
    "        ax = fig.add_subplot(2,3,1)\n",
    "        if indx == 0:\n",
    "            ax.plot(lamda,Relative,lines[indx],marker=\"o\",color=color[indx],markersize=1,label=T)\n",
    "        elif indx == 24: #round((Th_max-Th_min-1)/(Th_step)):\n",
    "            ax.plot(lamda,Relative,lines[4],marker=\"o\",color=color[4],markersize=1,label=T)\n",
    "        elif indx == 50: #round((Th_max-Th_min-1)/(2*Th_step)-0.5,0):\n",
    "            ax.plot(lamda,Relative,lines[2],marker=\"o\",color=color[2],markersize=1,label=T)\n",
    "        else:\n",
    "            ax.plot(lamda,Relative,lines[5],marker=\"o\",color=color[5],markersize=0.1)\n",
    "        plt.plot([0, 1], [1, 1], 'k-',lw=0.5,color=\"Black\")\n",
    "        #plt.legend(bbox_to_anchor=(1.05, 1), loc=2, borderaxespad=0.)\n",
    "    plt.ylabel('Relative real wage')\n",
    "    plt.xlabel('Lambda')\n",
    "    plt.title('Wiggle diagram')\n",
    "    plt.show()\n",
    "    "
   ]
  },
  {
   "cell_type": "code",
   "execution_count": 35,
   "metadata": {},
   "outputs": [
    {
     "name": "stdout",
     "output_type": "stream",
     "text": [
      "24.0\n",
      "50\n"
     ]
    },
    {
     "data": {
      "text/plain": [
       "<Figure size 640x480 with 0 Axes>"
      ]
     },
     "metadata": {},
     "output_type": "display_data"
    }
   ],
   "source": [
    "#Group 2: Τ = 1.9. \n",
    "\n",
    "phi1=0.48\n",
    "# phi2=0.6\n",
    "gam=0.3\n",
    "L=2.0\n",
    "eps=5.0\n",
    "rho=0.75        #changed for gr2\n",
    "bet=0.8\n",
    "alp=0.08\n",
    "delta=0.35      #changed for gr2\n",
    "T_lambda = []\n",
    "T_T = []\n",
    "T_Stab=[]\n",
    "fig = plt.figure()\n",
    "lines = [\"-\",\"--\",\"-.\",\":\",\"+\",\".\"]\n",
    "color = [\"Black\",\"Green\",\"Red\",\"Yellow\",\"Purple\",\"Grey\"]\n",
    "colstab = [\"Red\",\"Black\"]\n",
    "file = open(\"Results.txt\",\"w\")\n",
    "\n",
    "# Define number of iterations T and lambda\n",
    "Th_min=150\n",
    "Th_max=201 \n",
    "Th_step=1\n",
    "Th_div=100\n",
    "\n",
    "lamh_min=1\n",
    "lamh_max=99\n",
    "lamh_step=1\n",
    "lamh_div=100\n",
    "print(round((Th_max-Th_min-1)/(2*Th_step)-0.5,0))\n",
    "print(round((Th_max-Th_min-1)/(Th_step)))\n",
    "\n",
    "Th_values = np.arange(Th_min, Th_max, Th_step) / Th_div\n",
    "lam_values = np.arange(lamh_min, lamh_max, lamh_step) / lamh_div\n",
    "#CP_model(Th_values,lam_values,alp,bet,gam,delta,eps,rho,phi1,L, lines, color)"
   ]
  },
  {
   "cell_type": "code",
   "execution_count": 11,
   "metadata": {},
   "outputs": [
    {
     "data": {
      "text/plain": [
       "['-', '--', '-.', ':', '+', '.']"
      ]
     },
     "execution_count": 11,
     "metadata": {},
     "output_type": "execute_result"
    }
   ],
   "source": [
    "lines"
   ]
  },
  {
   "cell_type": "code",
   "execution_count": null,
   "metadata": {},
   "outputs": [
    {
     "name": "stderr",
     "output_type": "stream",
     "text": [
      "C:\\Users\\yanni\\AppData\\Local\\Temp\\ipykernel_4284\\2949829921.py:12: UserWarning: marker is redundantly defined by the 'marker' keyword argument and the fmt string \".\" (-> marker='.'). The keyword argument will take precedence.\n",
      "  ax.plot(lamda,Relative,lines[5],marker=\"o\",color=color[5],markersize=0.1)\n",
      "C:\\Users\\yanni\\AppData\\Local\\Temp\\ipykernel_4284\\2949829921.py:13: UserWarning: color is redundantly defined by the 'color' keyword argument and the fmt string \"k-\" (-> color='k'). The keyword argument will take precedence.\n",
      "  plt.plot([0, 1], [1, 1], 'k-',lw=0.5,color=\"Black\")\n",
      "C:\\Users\\yanni\\AppData\\Local\\Temp\\ipykernel_4284\\2949829921.py:27: UserWarning: marker is redundantly defined by the 'marker' keyword argument and the fmt string \".\" (-> marker='.'). The keyword argument will take precedence.\n",
      "  ax2.plot(lamda,Welfare,lines[5],marker=\"o\",color=color[5],markersize=0.01)\n",
      "No artists with labels found to put in legend.  Note that artists whose label start with an underscore are ignored when legend() is called with no argument.\n"
     ]
    },
    {
     "name": "stdout",
     "output_type": "stream",
     "text": [
      "50\n",
      "24.0\n"
     ]
    },
    {
     "name": "stderr",
     "output_type": "stream",
     "text": [
      "C:\\Users\\yanni\\AppData\\Local\\Temp\\ipykernel_4284\\2949829921.py:41: UserWarning: marker is redundantly defined by the 'marker' keyword argument and the fmt string \".\" (-> marker='.'). The keyword argument will take precedence.\n",
      "  ax3.plot(lamda,W_Man_H,lines[5],marker=\"o\",color=color[5],markersize=0.1)\n"
     ]
    },
    {
     "data": {
      "text/plain": [
       "Text(0.5, 1.0, 'Wage manufacturing workers home')"
      ]
     },
     "execution_count": 12,
     "metadata": {},
     "output_type": "execute_result"
    },
    {
     "data": {
      "image/png": "[encoded data removed]",
      "text/plain": [
       "<Figure size 640x480 with 1 Axes>"
      ]
     },
     "metadata": {},
     "output_type": "display_data"
    }
   ],
   "source": [
    "\n",
    "\n",
    "\n",
    "\n",
    "ax2 = fig.add_subplot(2,3,3)\n",
    "if indx ==0:\n",
    "    ax2.plot(lamda,Welfare,lines[indx],marker=\"o\",color=color[indx],markersize=1,label=T)\n",
    "elif indx == round((Th_max-Th_min-1)/(Th_step)):\n",
    "    ax2.plot(lamda,Welfare,lines[4],marker=\"o\",color=color[4],markersize=1,label=T)\n",
    "elif indx == round((Th_max-Th_min-1)/(2*Th_step),0):\n",
    "    ax2.plot(lamda,Welfare,lines[2],marker=\"o\",color=color[2],markersize=1,label=T)\n",
    "else:\n",
    "    ax2.plot(lamda,Welfare,lines[5],marker=\"o\",color=color[5],markersize=0.01)\n",
    "plt.legend(bbox_to_anchor=(1.05, 1), loc=2, borderaxespad=0.)\n",
    "plt.ylabel('Welfare')\n",
    "plt.xlabel('Lambda')\n",
    "plt.title('Welfare')\n",
    "\n",
    "ax3 = fig.add_subplot(2,3,2)\n",
    "if indx ==0:\n",
    "    ax3.plot(lamda,W_Man_H,lines[indx],marker=\"o\",color=color[indx],markersize=1,label=T)\n",
    "elif indx == round((Th_max-Th_min-1)/(Th_step)):\n",
    "    ax3.plot(lamda,W_Man_H,lines[4],marker=\"o\",color=color[4],markersize=1,label=T)\n",
    "elif indx == round((Th_max-Th_min-1)/(2*Th_step),0):\n",
    "    ax3.plot(lamda,W_Man_H,lines[2],marker=\"o\",color=color[2],markersize=1,label=T)\n",
    "else:\n",
    "    ax3.plot(lamda,W_Man_H,lines[5],marker=\"o\",color=color[5],markersize=0.1)\n",
    "#plt.legend(bbox_to_anchor=(1.05, 1), loc=2, borderaxespad=0.)\n",
    "plt.ylabel('W_Man_H')\n",
    "plt.xlabel('Lambda')\n",
    "plt.title('Wage manufacturing workers home')"
   ]
  },
  {
   "cell_type": "markdown",
   "metadata": {},
   "source": []
  }
 ],
 "metadata": {
  "kernelspec": {
   "display_name": "base",
   "language": "python",
   "name": "python3"
  },
  "language_info": {
   "codemirror_mode": {
    "name": "ipython",
    "version": 3
   },
   "file_extension": ".py",
   "mimetype": "text/x-python",
   "name": "python",
   "nbconvert_exporter": "python",
   "pygments_lexer": "ipython3",
   "version": "3.8.8"
  },
  "orig_nbformat": 4
 },
 "nbformat": 4,
 "nbformat_minor": 2
}
